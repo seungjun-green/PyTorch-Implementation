{
  "nbformat": 4,
  "nbformat_minor": 0,
  "metadata": {
    "colab": {
      "provenance": [],
      "authorship_tag": "ABX9TyOLZ9tBq3uBc4LTLNMGgHyT",
      "include_colab_link": true
    },
    "kernelspec": {
      "name": "python3",
      "display_name": "Python 3"
    },
    "language_info": {
      "name": "python"
    }
  },
  "cells": [
    {
      "cell_type": "markdown",
      "metadata": {
        "id": "view-in-github",
        "colab_type": "text"
      },
      "source": [
        "<a href=\"https://colab.research.google.com/github/seungjun-green/PyTorch-Implementation/blob/main/Densenet.ipynb\" target=\"_parent\"><img src=\"https://colab.research.google.com/assets/colab-badge.svg\" alt=\"Open In Colab\"/></a>"
      ]
    },
    {
      "cell_type": "markdown",
      "source": [
        "# Implement Densenet-BC in PyTorch"
      ],
      "metadata": {
        "id": "_lhINL-gwhtx"
      }
    },
    {
      "cell_type": "code",
      "execution_count": 16,
      "metadata": {
        "id": "y8OKy4QfaLcG"
      },
      "outputs": [],
      "source": [
        "import torch\n",
        "import torch.nn as nn\n",
        "import torch.nn.functional as F"
      ]
    },
    {
      "cell_type": "markdown",
      "source": [
        "## Dense Block"
      ],
      "metadata": {
        "id": "b5CD99odI15-"
      }
    },
    {
      "cell_type": "code",
      "source": [
        "class DenseBlock(nn.Module):\n",
        "    def __init__(self, num_layers, inital_channels, growth_rate=32):\n",
        "        super(DenseBlock, self).__init__()\n",
        "        self.num_layers = num_layers\n",
        "        self.inital_channels = inital_channels\n",
        "        self.growth_rate=growth_rate\n",
        "\n",
        "        self.blocks = nn.ModuleList()\n",
        "        self.bns = nn.ModuleList()\n",
        "\n",
        "        for i in range(num_layers):\n",
        "          input_channel = inital_channels + i*growth_rate\n",
        "          self.blocks.append(nn.Conv2d(in_channels=input_channel, out_channels=input_channel, kernel_size=1, stride=1, padding=0))\n",
        "          self.blocks.append(nn.Conv2d(in_channels=input_channel, out_channels=32, kernel_size=3, stride=1, padding=1))\n",
        "\n",
        "          self.bns.append(nn.BatchNorm2d(num_features=input_channel))\n",
        "          self.bns.append(nn.BatchNorm2d(num_features=input_channel))\n",
        "\n",
        "    def forward(self, x):\n",
        "      inputs = [x]\n",
        "      for i in range(0, len(self.blocks), 2):\n",
        "        x = torch.cat(inputs, dim=1) # concate x_0 to X_l-1\n",
        "\n",
        "        # As this is DenseNet-BC use BC-ReLU-Conv(1X1)-BC-ReLU-Conv(3X3) structure\n",
        "        x = self.bns[i](x)\n",
        "        x = F.relu(x)\n",
        "        x = self.blocks[i](x)\n",
        "        x = self.bns[i+1](x)\n",
        "        x = F.relu(x)\n",
        "        x = self.blocks[i+1](x)\n",
        "        inputs.append(x)\n",
        "\n",
        "      return x"
      ],
      "metadata": {
        "id": "ImmBUv5iEUQO"
      },
      "execution_count": 2,
      "outputs": []
    },
    {
      "cell_type": "markdown",
      "source": [
        "Followings are testing whether created dense blokcs are producing the correct output as shown in Table 1 of the paper."
      ],
      "metadata": {
        "id": "jFEkUfP2wq9N"
      }
    },
    {
      "cell_type": "code",
      "source": [
        "# first dense block\n",
        "first_dense_block = DenseBlock(6, 64)\n",
        "input_tensor = torch.randn(1, 64, 56, 56)\n",
        "output_tensor = first_dense_block(input_tensor)\n",
        "print(output_tensor.shape)\n",
        "\n",
        "# second dense block\n",
        "second_dense_block = DenseBlock(12, 32)\n",
        "input_tensor = torch.randn(1, 32, 28, 28)\n",
        "output_tensor = second_dense_block(input_tensor)\n",
        "print(output_tensor.shape)\n",
        "\n",
        "# third dense block\n",
        "third_dense_block = DenseBlock(24, 32)\n",
        "input_tensor = torch.randn(1, 32, 14, 14)\n",
        "output_tensor = third_dense_block(input_tensor)\n",
        "print(output_tensor.shape)\n",
        "\n",
        "# fourth dense block\n",
        "fourth_dense_block = DenseBlock(16, 32)\n",
        "input_tensor = torch.randn(1, 32, 7, 7)\n",
        "output_tensor = fourth_dense_block(input_tensor)\n",
        "print(output_tensor.shape)"
      ],
      "metadata": {
        "colab": {
          "base_uri": "https://localhost:8080/"
        },
        "id": "DM52_XoyFMcW",
        "outputId": "9db28aa0-3abf-4c97-f774-d8cd125c730a"
      },
      "execution_count": 18,
      "outputs": [
        {
          "output_type": "stream",
          "name": "stdout",
          "text": [
            "torch.Size([1, 32, 56, 56])\n",
            "torch.Size([1, 32, 28, 28])\n",
            "torch.Size([1, 32, 14, 14])\n",
            "torch.Size([1, 32, 7, 7])\n"
          ]
        }
      ]
    },
    {
      "cell_type": "markdown",
      "source": [
        "## Transition Layer"
      ],
      "metadata": {
        "id": "uAsq4hNcI49B"
      }
    },
    {
      "cell_type": "code",
      "source": [
        "class Transition(nn.Module):\n",
        "    def __init__(self, input_channel=32):\n",
        "        super(Transition, self).__init__()\n",
        "        self.input_channel = input_channel\n",
        "\n",
        "        self.conv = nn.Conv2d(in_channels=input_channel, out_channels=input_channel, kernel_size=1, stride=1, padding=0)\n",
        "        self.pool = nn.AvgPool2d(kernel_size=2, stride=2)\n",
        "\n",
        "    def forward(self, x):\n",
        "      # x: (None, input_channel, H, W)\n",
        "      x = self.conv(x)\n",
        "      # x: (None, input_channel, H, W)\n",
        "      x = self.pool(x)\n",
        "      # x: (None, input_channel, H/2, W/2)\n",
        "      return x"
      ],
      "metadata": {
        "id": "srd3F4RzI6uk"
      },
      "execution_count": 7,
      "outputs": []
    },
    {
      "cell_type": "code",
      "source": [
        "model = Transition()\n",
        "input_tensor = torch.randn(1, 32, 56, 56)\n",
        "output = model(input_tensor)\n",
        "print(output.shape)"
      ],
      "metadata": {
        "colab": {
          "base_uri": "https://localhost:8080/"
        },
        "id": "OeMbEe23VL0h",
        "outputId": "81b281ca-7d7b-4f7a-bc7b-90e6edef4606"
      },
      "execution_count": 8,
      "outputs": [
        {
          "output_type": "stream",
          "name": "stdout",
          "text": [
            "torch.Size([1, 32, 28, 28])\n"
          ]
        }
      ]
    },
    {
      "cell_type": "markdown",
      "source": [
        "## Create DensNet"
      ],
      "metadata": {
        "id": "wYLdBAbWVn7g"
      }
    },
    {
      "cell_type": "code",
      "source": [
        "class DenseNet(nn.Module):\n",
        "  def __init__(self):\n",
        "    super(DenseNet, self).__init__()\n",
        "    self.conv = nn.Conv2d(in_channels=3, out_channels=64, kernel_size=7, stride=2, padding=3)\n",
        "    self.maxPool = nn.MaxPool2d(kernel_size=3, stride=2, padding=1)\n",
        "    self.dense1 = DenseBlock(6, 64)\n",
        "    self.trans1 = Transition()\n",
        "    self.dense2 = DenseBlock(12, 32)\n",
        "    self.trans2 = Transition()\n",
        "    self.dense3 = DenseBlock(24, 32)\n",
        "    self.trans3 = Transition()\n",
        "    self.dense4 = DenseBlock(16, 32)\n",
        "    self.trans4 = Transition()\n",
        "    self.globalAvgPool = nn.AdaptiveAvgPool2d((1, 1))\n",
        "    self.fc = nn.Linear(32, 1000)\n",
        "    self.softmax = nn.Softmax(dim=1)\n",
        "\n",
        "  def forward(self, x):\n",
        "    x = self.conv(x)\n",
        "    x = self.maxPool(x)\n",
        "    x = self.dense1(x)\n",
        "    x = self.trans1(x)\n",
        "    x = self.dense2(x)\n",
        "    x = self.trans2(x)\n",
        "    x = self.dense3(x)\n",
        "    x = self.trans3(x)\n",
        "    x = self.dense4(x)\n",
        "    x = self.trans4(x)\n",
        "    x = self.globalAvgPool(x)\n",
        "    x = torch.flatten(x, 1)\n",
        "    x = self.fc(x)\n",
        "    x = self.softmax(x)\n",
        "    return x"
      ],
      "metadata": {
        "id": "e7fRAUnRVbeu"
      },
      "execution_count": 9,
      "outputs": []
    },
    {
      "cell_type": "markdown",
      "source": [
        "Testing out model inference"
      ],
      "metadata": {
        "id": "WuLDff-Px97E"
      }
    },
    {
      "cell_type": "code",
      "source": [
        "denseNet = DenseNet()\n",
        "input_tensor = torch.randn(32, 3, 224, 224)\n",
        "output = denseNet(input_tensor)\n",
        "print(output.shape)"
      ],
      "metadata": {
        "colab": {
          "base_uri": "https://localhost:8080/"
        },
        "id": "SHnVfJkfbKYO",
        "outputId": "4d46a9d3-bab8-46d3-c022-c791e08ba0bb"
      },
      "execution_count": 10,
      "outputs": [
        {
          "output_type": "stream",
          "name": "stdout",
          "text": [
            "torch.Size([32, 1000])\n"
          ]
        }
      ]
    }
  ]
}