{
  "nbformat": 4,
  "nbformat_minor": 0,
  "metadata": {
    "colab": {
      "provenance": [],
      "machine_shape": "hm",
      "gpuType": "L4"
    },
    "kernelspec": {
      "name": "python3",
      "display_name": "Python 3"
    },
    "language_info": {
      "name": "python"
    },
    "accelerator": "GPU"
  },
  "cells": [
    {
      "cell_type": "code",
      "source": [
        "import torch\n",
        "device = torch.device(\"cuda\" if torch.cuda.is_available() else \"cpu\")\n",
        "print(\"Using device:\", device)"
      ],
      "metadata": {
        "colab": {
          "base_uri": "https://localhost:8080/"
        },
        "id": "gwY8tJZ6h3nj",
        "outputId": "348d2486-a7d1-4f1a-9424-303d4023c976"
      },
      "execution_count": 1,
      "outputs": [
        {
          "output_type": "stream",
          "name": "stdout",
          "text": [
            "Using device: cuda\n"
          ]
        }
      ]
    },
    {
      "cell_type": "markdown",
      "source": [
        "# Download Packages and Impor it"
      ],
      "metadata": {
        "id": "a0kLAlwm9Ikr"
      }
    },
    {
      "cell_type": "code",
      "source": [
        "!pip install portalocker>=2.0.0"
      ],
      "metadata": {
        "id": "nU662ZWKcRwS"
      },
      "execution_count": 4,
      "outputs": []
    },
    {
      "cell_type": "code",
      "execution_count": 5,
      "metadata": {
        "id": "8aI2nNebZg3H"
      },
      "outputs": [],
      "source": [
        "import torch\n",
        "import torch.nn as nn\n",
        "import torch.optim as optim\n",
        "from torchtext.datasets import IMDB\n",
        "from torchtext.data import get_tokenizer\n",
        "from transformers import BertTokenizer\n",
        "import numpy as np\n",
        "import torch\n",
        "from torchtext.data.utils import get_tokenizer\n",
        "from torchtext.vocab import build_vocab_from_iterator\n",
        "from torch.nn.utils.rnn import pad_sequence\n",
        "from torch.utils.data import TensorDataset, DataLoader\n",
        "import matplotlib.pyplot as plt\n",
        "import random"
      ]
    },
    {
      "cell_type": "markdown",
      "source": [
        "# Download dataset and preprocess it"
      ],
      "metadata": {
        "id": "86bh7zFf9Md4"
      }
    },
    {
      "cell_type": "code",
      "source": [
        "train_iter = IMDB(split='train')\n",
        "test_iter = IMDB(split='test')"
      ],
      "metadata": {
        "id": "oB3WNLoYcOyv"
      },
      "execution_count": 7,
      "outputs": []
    },
    {
      "cell_type": "markdown",
      "source": [
        "1. creating train_corpus, test_corpus, train_labels, test_labels,"
      ],
      "metadata": {
        "id": "FeGl97Lf9Pmb"
      }
    },
    {
      "cell_type": "code",
      "source": [
        "train_labels = []\n",
        "train_corpus = []\n",
        "for idx, example in enumerate(train_iter):\n",
        "  y, X = example\n",
        "  train_labels.append(y)\n",
        "  train_corpus.append(X)\n",
        "\n",
        "train_labels = [label-1 for label in train_labels]\n",
        "\n",
        "test_labels = []\n",
        "test_corpus = []\n",
        "for idx, example in enumerate(test_iter):\n",
        "  y, X = example\n",
        "  test_labels.append(y)\n",
        "  test_corpus.append(X)\n",
        "\n",
        "test_labels = [label-1 for label in test_labels]"
      ],
      "metadata": {
        "id": "3s6kBxyxcf8o"
      },
      "execution_count": 8,
      "outputs": []
    },
    {
      "cell_type": "code",
      "source": [],
      "metadata": {
        "id": "YyGBLF-cesqH"
      },
      "execution_count": 8,
      "outputs": []
    },
    {
      "cell_type": "markdown",
      "source": [
        "2. Load tokenizer and using it tokenize train_corpus and test_corpus"
      ],
      "metadata": {
        "id": "ZVy3Whgn9Wwz"
      }
    },
    {
      "cell_type": "code",
      "source": [
        "tokenizer = get_tokenizer(\"spacy\", language='en_core_web_sm')\n",
        "\n",
        "def tokenize_data(corpus):\n",
        "    return [tokenizer(text) for text in corpus]\n",
        "\n",
        "train_tokenized = tokenize_data(train_corpus)\n",
        "test_tokenized = tokenize_data(test_corpus)"
      ],
      "metadata": {
        "id": "EiCu6nGPPwZa"
      },
      "execution_count": 9,
      "outputs": []
    },
    {
      "cell_type": "code",
      "source": [
        "print(train_tokenized[34])\n",
        "print(test_tokenized[34])"
      ],
      "metadata": {
        "colab": {
          "base_uri": "https://localhost:8080/"
        },
        "id": "QpXtCRsqPwsX",
        "outputId": "e4d4d757-6b57-4408-9c06-9d9f4a107932"
      },
      "execution_count": 10,
      "outputs": [
        {
          "output_type": "stream",
          "name": "stdout",
          "text": [
            "['A', 'woman', 'asks', 'for', 'advice', 'on', 'the', 'road', 'to', 'reach', 'a', 'mysterious', 'town', ',', 'and', 'hears', 'two', 'ghoulish', 'stories', 'from', 'the', 'local', 'weirdo', ',', 'both', 'zombie', 'related', '.', 'But', 'perhaps', 'fate', 'has', 'something', 'nasty', 'in', 'store', 'for', 'her', 'too', '...', '<br', '/><br', '/>The', 'Zombie', 'Chronicles', 'is', 'absolutely', 'one', 'of', 'the', 'worst', 'films', 'I', 'have', 'ever', 'seen', '.', 'In', 'fact', 'I', 'must', 'confess', ',', 'so', 'bad', 'was', 'it', 'I', 'fast', 'forwarded', 'through', 'most', 'of', 'the', 'garbage', '.', 'And', 'there', 'was', 'a', 'lot', 'of', 'that', ',', 'believe', 'me', '.', 'It', 'runs', 'for', 'just', '69', 'minutes', ',', 'and', 'there', 'is', 'still', 'tons', 'of', 'filler', '.', 'You', 'get', 'some', 'skinhead', 'doing', 'a', 'lot', 'of', 'push', 'ups', ',', 'plenty', 'of', 'dull', 'kissy', '-', 'kissy', 'scenes', 'between', 'goofy', 'teens', '(', 'that', 'rhymed', ',', 'tee', 'hee', ')', 'and', 'some', 'fine', 'examples', 'of', 'why', 'some', 'people', 'should', 'never', 'become', 'actors.<br', '/><br', '/>As', 'for', 'the', 'title', 'characters', ',', 'they', 'barely', 'even', 'have', 'a', 'footnote', 'in', 'the', 'film', '.', 'Why', ',', 'you', 'get', 'more', 'undead', 'action', 'in', 'the', 'intro', 'than', 'you', 'do', 'the', 'preceding', 'feature', '!', 'Though', ',', 'considering', 'how', 'pathetic', 'the', 'eyes', 'bursting', 'out', 'of', 'sockets', 'and', 'the', 'eating', 'of', 'brains', 'sequences', 'are', '(', 'amongst', 'other', \"'\", 'delights', \"'\", ')', ',', 'maybe', 'that', \"'s\", 'a', 'blessing', 'in', 'disguise.<br', '/><br', '/>And', 'to', 'top', 'it', 'all', 'off', ',', 'it', 'looks', 'likes', 'it', \"'s\", 'been', 'filmed', 'on', 'someone', \"'s\", 'mobile', 'phone', 'for', 'broadcast', 'on', 'Youtube', '.', 'Jerky', 'camera', '-', 'work', ',', 'scratches', 'on', 'the', 'print', ',', 'flickering', 'lights', '...', 'I', 'had', 'to', 'rub', 'my', 'eyes', 'when', 'I', 'realised', 'it', 'was', 'made', 'in', '2001', ',', 'and', 'not', '1971', '.', 'Even', 'the', 'clothes', 'and', 'fashioned', 'look', 'about', 'three', 'decades', 'out', 'of', 'date!<br', '/><br', '/>If', 'you', 'think', 'I', \"'m\", 'not', 'qualified', 'to', 'do', 'a', 'review', 'of', 'Chronicles', 'having', 'not', 'seen', 'the', 'whole', 'film', ',', 'then', 'go', 'ahead', '.', 'YOU', 'try', 'sitting', 'through', 'it', ',', 'I', 'betcha', 'you', 'wo', \"n't\", 'even', 'make', 'it', 'to', 'the', 'first', 'appearance', 'of', 'the', 'blue', '-', 'smartie', 'coloured', 'freaks', 'before', 'making', 'your', 'excuses', 'and', 'leaving', '.', 'It', 'is', 'truly', 'laughable', 'that', 'anyone', 'chose', 'to', 'release', 'it', ',', 'and', 'honestly', 'you', \"'ll\", 'get', 'far', 'more', 'fun', 'resting', 'your', 'drink', 'on', 'the', 'disc', 'than', 'actually', 'torturing', 'your', 'DVD', 'player', 'with', 'this', 'gigglesome', 'excuse', 'for', 'horror', '.', 'In', 'fact', ',', 'do', \"n't\", 'for', 'surprised', 'if', 'it', 'packs', 'it', \"'s\", 'bags', 'and', 'leaves', 'in', 'the', 'morning', ',', 'leaving', 'you', 'doomed', 'to', 'watch', 'VHS', 'tapes', 'for', 'the', 'rest', 'of', 'your', 'life', '.', 'You', 'have', 'been', 'warned', '...', '0/10', '<', 'br', '/><br', '/>P.S', 'What', 'kind', 'of', '18', '-', 'rated', 'horror', 'has', 'the', 'woman', 'keep', 'a', 'massive', 'sports', 'bra', 'on', 'during', 'the', 'obligatory', 'sex', 'scene', '?', '!', 'See', ',', 'the', 'movie', 'ca', \"n't\", 'even', 'get', 'that', 'part', 'right', '...']\n",
            "['I', 'quite', 'enjoyed', 'The', 'Wrecking', 'Crew', '(', '1999', ')', ',', 'which', 'was', 'the', 'last', 'of', 'the', 'three', 'films', 'in', 'this', 'series', '(', 'the', 'first', 'being', 'Urban', 'Menace', '(', '1999', ')', 'which', 'I', \"'ve\", 'yet', 'to', 'see', ')', '.', 'I', 'know', 'it', 'was', 'baaaaad', ',', 'but', 'the', 'three', 'leads', 'did', 'a', 'pretty', 'decent', 'job', ',', 'all', 'things', 'considered.<br', '/><br', '/>This', ',', 'however', ',', 'was', 'truly', 'atrocious', '.', 'Ice', '-', 'T', 'was', 'dreadful', ',', 'and', 'he', \"'s\", 'the', 'producer', '!', 'Ca', \"n't\", 'say', 'I', \"'ve\", 'ever', 'heard', 'of', 'Silkk', 'The', 'Shocker', '(', 'who', 'apparently', 'never', 'learnt', 'how', 'to', 'spell', ')', ',', 'but', 'his', 'performance', 'was', 'one', 'of', 'the', 'worst', 'I', \"'ve\", 'ever', 'seen', 'in', 'a', 'movie.<br', '/><br', '/>Miss', 'Jones', 'did', 'pretty', 'well', 'in', 'her', 'small', 'role', ',', 'though', 'she', 'later', 'went', 'on', 'to', 'make', 'some', 'atrocious', ',', 'racist', '\"', 'jokes', '\"', 'on', 'her', 'radio', 'show', 'after', 'the', 'SE', 'Asian', 'tsunami', '(', 'plus', 'other', 'occasions', 'sadly', ')', '.', 'Way', 'to', 'go', ',', 'girl', '...', '<br', '/><br', '/>No', '-', 'one', 'else', 'comes', 'out', 'with', 'any', 'credit', '.', 'Strangely', ',', 'TJ', 'Storm', 'and', 'Ernie', 'Hudson', '(', 'who', 'are', 'both', 'pretty', 'bad', 'here', ')', 'are', 'far', 'better', 'in', 'The', 'Wrecking', 'Crew', ',', 'which', 'was', 'made', ',', 'along', 'with', 'Urban', 'Menace', ',', 'at', 'the', 'same', 'time', 'as', 'Corrupt', '.', 'How', 'that', 'works', ',', 'I', 'do', \"n't\", 'know.<br', '/><br', \"/>I'm\", 'going', 'to', 'try', 'the', 'Ice', '-', 'T', 'commentary', 'now', ',', 'to', 'see', 'whether', 'he', 'apologises', 'for', 'the', 'film', ',', 'or', 'tries', 'to', 'make', 'us', 'think', 'it', \"'s\", 'a', 'great', 'piece', 'of', 'film', '-', 'making', '.']\n"
          ]
        }
      ]
    },
    {
      "cell_type": "code",
      "source": [
        "# plot the length of each array in train_coprus and test_coprus\n",
        "\n",
        "train_lengths = [len(x) for x in train_tokenized]\n",
        "test_lengths = [len(x) for x in test_tokenized]\n",
        "\n",
        "plt.figure(figsize=(10, 5))\n",
        "plt.hist(train_lengths, bins=50, alpha=0.5, label=\"train\")\n",
        "plt.hist(test_lengths, bins=50, alpha=0.5, label=\"test\")\n",
        "plt.xlabel(\"Sentence Length\")\n",
        "plt.ylabel(\"Frequency\")\n",
        "plt.title(\"Distribution of Sentence Lengths\")\n",
        "plt.legend()\n",
        "plt.show()\n"
      ],
      "metadata": {
        "colab": {
          "base_uri": "https://localhost:8080/",
          "height": 487
        },
        "id": "EcJlajs4-Thn",
        "outputId": "bb5ed857-c154-47f1-8492-9c7205233f74"
      },
      "execution_count": 11,
      "outputs": [
        {
          "output_type": "display_data",
          "data": {
            "text/plain": [
              "<Figure size 1000x500 with 1 Axes>"
            ],
            "image/png": "[encoded data removed]"
          },
          "metadata": {}
        }
      ]
    },
    {
      "cell_type": "code",
      "source": [
        "max_lenght = 256"
      ],
      "metadata": {
        "id": "66lOn5Jp-kLg"
      },
      "execution_count": 12,
      "outputs": []
    },
    {
      "cell_type": "markdown",
      "source": [
        "3. create a vocabulary using train_corpus"
      ],
      "metadata": {
        "id": "E9S-PO9k9kP1"
      }
    },
    {
      "cell_type": "code",
      "source": [
        "def yield_tokens(data_iter):\n",
        "    for tokens in data_iter:\n",
        "        yield tokens\n",
        "\n",
        "vocab = build_vocab_from_iterator(yield_tokens(train_tokenized), specials=[\"<unk>\", \"<pad>\"],  max_tokens=10000)\n",
        "vocab.set_default_index(vocab[\"<unk>\"])  # Set default index for unknown tokens"
      ],
      "metadata": {
        "id": "_F1ka5omPz7C"
      },
      "execution_count": 26,
      "outputs": []
    },
    {
      "cell_type": "code",
      "source": [
        "# the reult we got 'vocab' is a word dictionary\n",
        "print(vocab['world'])\n",
        "print(vocab['airplane'])\n",
        "print(vocab['<pad>'])\n",
        "print(vocab['<unk>'])"
      ],
      "metadata": {
        "colab": {
          "base_uri": "https://localhost:8080/"
        },
        "id": "AE-LUbzsQJF4",
        "outputId": "adf2437a-0e53-481b-d1e7-1c6286da011d"
      },
      "execution_count": 27,
      "outputs": [
        {
          "output_type": "stream",
          "name": "stdout",
          "text": [
            "228\n",
            "7544\n",
            "1\n",
            "0\n"
          ]
        }
      ]
    },
    {
      "cell_type": "code",
      "source": [
        "len(vocab)"
      ],
      "metadata": {
        "colab": {
          "base_uri": "https://localhost:8080/"
        },
        "id": "iBS_VnNkIH6P",
        "outputId": "4673e2f1-081e-489d-d3fb-b3363ef1658d"
      },
      "execution_count": 28,
      "outputs": [
        {
          "output_type": "execute_result",
          "data": {
            "text/plain": [
              "10000"
            ]
          },
          "metadata": {},
          "execution_count": 28
        }
      ]
    },
    {
      "cell_type": "markdown",
      "source": [
        "3. Using the voab word dictionary numericalize each token in train_tokenized and test_tokenized."
      ],
      "metadata": {
        "id": "XWyUE99q-8NT"
      }
    },
    {
      "cell_type": "code",
      "source": [
        "# Step 3: Numericalize tokens\n",
        "def numericalize_tokens(data):\n",
        "    return [[vocab[token] for token in tokens] for tokens in data]\n",
        "\n",
        "train_sequences = numericalize_tokens(train_tokenized)\n",
        "test_sequences = numericalize_tokens(test_tokenized)"
      ],
      "metadata": {
        "id": "hzw1H1G7YIqa"
      },
      "execution_count": 29,
      "outputs": []
    },
    {
      "cell_type": "code",
      "source": [
        "print(train_sequences[322])\n",
        "print(test_sequences[444])\n",
        "\n",
        "print(len(train_sequences[322]))\n",
        "print(len(test_sequences[444]))"
      ],
      "metadata": {
        "colab": {
          "base_uri": "https://localhost:8080/"
        },
        "id": "HpWU_kEzYJ0G",
        "outputId": "ea472e4f-fec7-475a-db35-c73d9fcfd331"
      },
      "execution_count": 30,
      "outputs": [
        {
          "output_type": "stream",
          "name": "stdout",
          "text": [
            "[66, 0, 8, 36, 2, 281, 22, 11, 160, 145, 3576, 8, 130, 4, 159, 2, 106, 1190, 258, 3, 67, 19, 29, 261, 8, 431, 83, 628, 10, 16, 22, 4, 11, 19, 28, 3982, 41, 2, 68, 3, 5, 73, 1040, 7, 68, 8, 0, 8, 6, 56, 17, 23, 17, 2, 17, 277, 17, 7, 17, 12, 22, 4, 25, 0, 97, 78, 4308, 10, 73, 16, 22, 10, 2274, 182, 45, 230, 34, 204, 12, 46, 2, 871, 523, 1164, 50, 7492, 18, 683, 31, 47, 1842, 3040, 3, 16, 9, 196, 47, 115, 98, 22, 37, 15, 104, 4, 66, 662, 21, 6, 100, 896, 5, 122, 56, 204, 488, 4, 155, 15, 196, 81, 2676, 183, 10, 746, 18, 4010, 313, 6, 192, 7, 117, 3, 616, 59, 11, 86, 29, 499, 23, 4, 126, 76, 31, 1209, 8, 464, 148, 68, 28, 16, 22, 3, 57, 29, 151, 11, 86, 29, 3245, 31, 4]\n",
            "[503, 36, 1385, 3, 11, 86, 29, 80, 6, 192, 7, 16, 141, 4, 3374, 101, 12, 19, 29, 20, 60, 20, 2, 220, 0, 3, 26, 11, 322, 8, 2550, 109, 769, 12, 209, 28, 2, 8932, 8205, 4, 595, 302, 56, 32, 29, 325, 2, 1221, 7, 1181, 209, 212, 1314, 4, 126, 11, 77, 86, 379, 41, 106, 3, 48, 12, 19, 29, 42, 100, 4, 844, 11, 56, 834, 1039, 12, 8, 4728, 3, 26, 11, 201, 29, 225, 16, 141, 6, 523, 4, 159, 42, 4691, 3, 11, 201, 29, 225, 12, 115, 61, 87, 6, 323, 5529, 18, 408, 19, 29, 0, 27, 11, 172, 33, 185, 8, 589, 173, 418, 146, 15, 212, 68, 30, 4, 135, 12, 19, 285, 8, 36, 0, 242, 1598, 2729, 115, 816, 3, 47, 12, 63, 56, 8584, 636, 4, 485, 526, 65, 58, 452, 1341, 4, 25, 144, 11, 69, 57, 162, 9, 8, 1825, 12, 8, 98, 0, 18, 0, 334, 3, 0, 19, 6, 89, 147, 141, 40, 257, 4, 375, 3, 45, 152, 34, 466, 12, 0, 0, 3, 0, 101, 0, 3452, 631, 654, 47, 43, 940, 0, 3, 26, 196, 41, 42, 47, 0, 334, 4, 7527, 346, 347, 2, 188, 3, 56, 670, 35, 440, 5, 2, 440, 7, 2, 141, 4, 0, 39, 476, 0, 19, 29, 2, 74, 806, 8, 363, 2489, 5, 0, 2, 220, 4, 0, 0, 15, 8255, 19, 6, 909, 853, 17, 64, 8, 402, 159, 25, 3315, 4, 54, 73, 82, 540, 3, 82, 2003, 3, 82, 1163, 486, 42, 7, 2, 213, 13, 104, 402, 159, 2, 3315, 48, 945, 4, 0, 3, 0, 19, 183, 101, 2, 6753, 78, 0, 8, 2, 1259, 5902, 7, 474, 4, 0, 2, 474, 5, 31, 6470, 2, 1381, 23, 7198, 1344, 7, 2, 514, 4, 7002, 201, 29, 8490, 41, 0, 23, 1707, 6, 2962, 3, 101, 0, 9, 29, 1707, 6, 2962, 3, 101, 37, 15, 33, 285, 8, 93, 4693, 55, 7, 2, 2866, 3, 101, 37, 15, 483, 55, 7, 2, 2866, 3, 101, 2, 474, 9, 136, 4, 27, 8986, 30, 402, 7, 2, 665, 898, 932, 101, 67, 19, 82, 3915, 23, 261, 4, 25, 236, 8746, 19, 2, 528, 3, 8, 876, 209, 5, 130, 2, 5133, 18, 884, 46, 65, 11, 423, 3, 2, 239, 141, 480, 8, 36, 7002, 3, 0, 3, 5, 0, 56, 2273, 67, 0, 3, 4990, 2, 332, 47, 6, 4464, 7, 0, 3294, 4, 54, 19, 2923, 7, 1165, 4601, 3, 140, 45, 1110, 1147, 1344, 7, 2, 141, 2273, 539, 13, 6307, 5, 682, 8, 2, 332, 3, 285, 8, 107, 12, 191, 47, 45, 78, 316, 1342, 2845, 4, 235, 78, 29, 4, 135, 12, 438, 81, 351, 1342, 28, 476, 0, 18, 2809, 1591, 0, 11, 2550, 9, 13, 2, 99, 44, 104, 0, 133, 204, 115, 0, 46, 2, 3326, 17, 142, 4, 25, 1235, 362, 2, 1871, 1392, 13, 476, 0, 19, 77, 6, 3326, 17, 142, 7, 2, 22, 0, 27, 71, 45, 6779, 30, 5, 33, 2, 269, 226, 4, 4716, 379, 3, 26, 0, 19, 2, 74, 38, 7, 2, 338, 10, 2, 22, 3, 5, 37, 19, 133, 6023, 4, 11, 526, 1235, 0, 96, 57, 261, 23, 6, 6829, 4, 8223, 98, 87, 107, 6, 2808, 806, 3, 13, 9, 4]\n",
            "161\n",
            "570\n"
          ]
        }
      ]
    },
    {
      "cell_type": "markdown",
      "source": [
        "4. pad sequences"
      ],
      "metadata": {
        "id": "zbpnoXdL_QkL"
      }
    },
    {
      "cell_type": "code",
      "source": [
        "# Pad sequences\n",
        "def pad_sequences(sequences, max_legnth):\n",
        "  tensor_seqs = [torch.tensor(seq[:max_legnth]) for seq in sequences]\n",
        "  return pad_sequence(tensor_seqs, batch_first=True, padding_value=vocab['<pad>'])\n",
        "\n",
        "train_padded = pad_sequences(train_sequences, 256)\n",
        "test_padded = pad_sequences(test_sequences, 256)"
      ],
      "metadata": {
        "id": "l87yHE41YL5L"
      },
      "execution_count": 31,
      "outputs": []
    },
    {
      "cell_type": "code",
      "source": [
        "print(train_padded[9443])\n",
        "print(len(train_padded[0]))"
      ],
      "metadata": {
        "id": "MMtHVZhIZN6f",
        "colab": {
          "base_uri": "https://localhost:8080/"
        },
        "outputId": "8a8b0d9e-d8bc-4a61-87d8-0d8bb5df300c"
      },
      "execution_count": 32,
      "outputs": [
        {
          "output_type": "stream",
          "name": "stdout",
          "text": [
            "tensor([  66,    9,    6,  821,  571, 3376, 1867,  547,   92,  113, 3780,    0,\n",
            "           3,   76,   40,    2, 1445,    3,   21,    6, 8157,    0,  129,    5,\n",
            "          59,  651, 5539,    4,   25,  105,  244,  195,    7,   16,   24,    9,\n",
            "         113, 3639, 1029,    7,    0,    0,    3,    6,  163,   21,    6, 4760,\n",
            "        4025,   20,    2,   24,   15,   14, 1083,   14,    4,  921,  673,    8,\n",
            "          80,   16,  163, 7358,    3,   26,   37,  268,  104,   60,  371,    7,\n",
            "           2,  307,   45, 1580,  102,    4,    0,    9,  351, 4888,   87,    2,\n",
            "        1235, 3405,    3,   20,   11,   61,  432,  438, 2526,  136, 1320,   50,\n",
            "          81,    0,    4, 1563,    0,    9,   28, 2210,   20,    2,   24,   15,\n",
            "        1543, 1679,    3,    5,   37,    9,   62, 1184,   10,   16,  195,    4,\n",
            "          11,   23,   38,  387,  343,    0,   10,   56,   51,  261,  125,   23,\n",
            "          59,  303,    2,  163,    0,   84,    4,   25,   74,   98,  195,    7,\n",
            "           2,   24,   13, 2308,   84,    9,    2,   24,   15, 1871,  217,   28,\n",
            "           2,  568,  228,    4, 1026,   97,   32,  639,  543,  568, 1505,   44,\n",
            "           0,   10,   79, 1274,    8, 1055, 2975,  125,   16,    9,  538,   40,\n",
            "         538,   21,    2,   24,   15,  937,   14,  652,   14,   44,    9,   43,\n",
            "          14, 1679,   14,   44, 7825,   88,   93,   16,   88, 5663,   64,  586,\n",
            "           4, 5195,  299,  652,   15,  179,    9, 7594,  538,   40,  538,   21,\n",
            "           2,    0,   15,    0,    0,    4,  557, 1184,    9,    2,   24,   15,\n",
            "        3196, 1686, 3905,    3,   44,   41,   38,  241, 2533,   13,   37,    0,\n",
            "           2,  652,   15, 5663,   64,  568,  101,   14,  392,   47,   13,   57,\n",
            "          29, 1881,   14,    8])\n",
            "256\n"
          ]
        }
      ]
    },
    {
      "cell_type": "markdown",
      "source": [
        "4. create a tensor datasets and using it create a DataLoader"
      ],
      "metadata": {
        "id": "7xU09Av7BT2O"
      }
    },
    {
      "cell_type": "code",
      "source": [
        "# Create TensorDatasets\n",
        "train_labels_tensor = torch.tensor(train_labels)\n",
        "test_labels_tensor = torch.tensor(test_labels)\n",
        "\n",
        "train_dataset = TensorDataset(train_padded, train_labels_tensor)\n",
        "test_dataset = TensorDataset(test_padded, test_labels_tensor)\n",
        "\n",
        "# Create DataLoader\n",
        "batch_size = 32\n",
        "train_loader = DataLoader(train_dataset, batch_size=batch_size, shuffle=True)\n",
        "test_loader = DataLoader(test_dataset, batch_size=batch_size, shuffle=True)"
      ],
      "metadata": {
        "id": "Q5bK3FMzQUQR"
      },
      "execution_count": 33,
      "outputs": []
    },
    {
      "cell_type": "code",
      "source": [
        "for idx, exmaple in enumerate(train_loader):\n",
        "  X, y = exmaple\n",
        "  print(X.shape)\n",
        "  print(y.shape)\n",
        "  if idx == 10:\n",
        "    break\n"
      ],
      "metadata": {
        "id": "gpEMQHwfCttJ"
      },
      "execution_count": null,
      "outputs": []
    },
    {
      "cell_type": "markdown",
      "source": [
        "# Create a model"
      ],
      "metadata": {
        "id": "GOCHF9tdC_jm"
      }
    },
    {
      "cell_type": "code",
      "source": [
        "class IMDBReivewClassifier(nn.Module):\n",
        "  def __init__(self):\n",
        "    super(IMDBReivewClassifier, self).__init__()\n",
        "    # Embedding Layers\n",
        "    self.embedding = nn.Embedding(num_embeddings = 10000, embedding_dim = 512)\n",
        "    # LSTM layers\n",
        "    self.lstm_layers = nn.LSTM(input_size = 512, hidden_size = 512, num_layers=2, batch_first=True, bidirectional=True)\n",
        "    # Fully Connected Layers\n",
        "    self.fc1 = nn.Linear(1024, 64)\n",
        "    self.fc2 = nn.Linear(64, 1)\n",
        "\n",
        "\n",
        "  def forward(self, x):\n",
        "    x = self.embedding(x)\n",
        "    output, (hn, cn) = self.lstm_layers(x)\n",
        "    x = output.mean(dim=1)\n",
        "    x = self.fc1(x)\n",
        "    x = self.fc2(x)\n",
        "    x = torch.sigmoid(x)\n",
        "    return x"
      ],
      "metadata": {
        "id": "QbrJKX47C-K5"
      },
      "execution_count": 35,
      "outputs": []
    },
    {
      "cell_type": "code",
      "source": [
        "lstm_layer = nn.LSTM(input_size=512,\n",
        "                     hidden_size=512,\n",
        "                     num_layers=2,\n",
        "                     batch_first=True,\n",
        "                     bidirectional=False)\n",
        "\n",
        "batch_size = 3\n",
        "seq_length = 100\n",
        "input_size = 512  # Must match the input_size of LSTM\n",
        "\n",
        "input_tensor = torch.randn(batch_size, seq_length, input_size)\n",
        "outputs, (hn, cn) = lstm_layer(input_tensor)\n",
        "outputs.shape"
      ],
      "metadata": {
        "colab": {
          "base_uri": "https://localhost:8080/"
        },
        "id": "9fEey80IUvsf",
        "outputId": "12b6c471-498d-482f-a9dc-470b2a14a0fc"
      },
      "execution_count": 106,
      "outputs": [
        {
          "output_type": "execute_result",
          "data": {
            "text/plain": [
              "torch.Size([3, 100, 512])"
            ]
          },
          "metadata": {},
          "execution_count": 106
        }
      ]
    },
    {
      "cell_type": "code",
      "source": [],
      "metadata": {
        "id": "ONTtPBfrU165"
      },
      "execution_count": null,
      "outputs": []
    },
    {
      "cell_type": "code",
      "source": [
        "model = IMDBReivewClassifier()"
      ],
      "metadata": {
        "id": "JQ2vgRGzKePQ"
      },
      "execution_count": 36,
      "outputs": []
    },
    {
      "cell_type": "markdown",
      "source": [
        "Check model inference"
      ],
      "metadata": {
        "id": "NtwUZSu7NynG"
      }
    },
    {
      "cell_type": "code",
      "source": [
        "batch_size = 32\n",
        "seq_length = 256\n",
        "vocab_size = 10000\n",
        "example_tensor = torch.randint(low=0, high=vocab_size, size=(batch_size, seq_length), dtype=torch.long)\n",
        "\n",
        "output = model(example_tensor.to(device))\n",
        "print(output.shape)"
      ],
      "metadata": {
        "colab": {
          "base_uri": "https://localhost:8080/"
        },
        "id": "7fXxlYg0MShR",
        "outputId": "92289a30-1757-428c-ca50-e9bb042839fe"
      },
      "execution_count": 102,
      "outputs": [
        {
          "output_type": "stream",
          "name": "stdout",
          "text": [
            "torch.Size([32, 1])\n"
          ]
        }
      ]
    },
    {
      "cell_type": "code",
      "source": [
        "output"
      ],
      "metadata": {
        "colab": {
          "base_uri": "https://localhost:8080/"
        },
        "id": "GeiT1eAxM5KH",
        "outputId": "7753526c-b1e2-4221-fc43-e8f7fb53bf8b"
      },
      "execution_count": 38,
      "outputs": [
        {
          "output_type": "execute_result",
          "data": {
            "text/plain": [
              "tensor([[0.5074],\n",
              "        [0.5077],\n",
              "        [0.5091],\n",
              "        [0.5087],\n",
              "        [0.5086],\n",
              "        [0.5085],\n",
              "        [0.5081],\n",
              "        [0.5078],\n",
              "        [0.5085],\n",
              "        [0.5083],\n",
              "        [0.5080],\n",
              "        [0.5082],\n",
              "        [0.5076],\n",
              "        [0.5092],\n",
              "        [0.5084],\n",
              "        [0.5079],\n",
              "        [0.5077],\n",
              "        [0.5075],\n",
              "        [0.5088],\n",
              "        [0.5079],\n",
              "        [0.5081],\n",
              "        [0.5079],\n",
              "        [0.5093],\n",
              "        [0.5091],\n",
              "        [0.5089],\n",
              "        [0.5080],\n",
              "        [0.5082],\n",
              "        [0.5083],\n",
              "        [0.5081],\n",
              "        [0.5075],\n",
              "        [0.5089],\n",
              "        [0.5074]], grad_fn=<SigmoidBackward0>)"
            ]
          },
          "metadata": {},
          "execution_count": 38
        }
      ]
    },
    {
      "cell_type": "code",
      "source": [
        "model.to(device)"
      ],
      "metadata": {
        "colab": {
          "base_uri": "https://localhost:8080/"
        },
        "id": "_RF3a4uKNXAq",
        "outputId": "aa25687b-2ab9-40a1-e6e1-397427927e32"
      },
      "execution_count": 39,
      "outputs": [
        {
          "output_type": "execute_result",
          "data": {
            "text/plain": [
              "IMDBReivewClassifier(\n",
              "  (embedding): Embedding(10000, 512)\n",
              "  (lstm_layers): LSTM(512, 512, num_layers=2, batch_first=True, bidirectional=True)\n",
              "  (fc1): Linear(in_features=1024, out_features=64, bias=True)\n",
              "  (fc2): Linear(in_features=64, out_features=1, bias=True)\n",
              ")"
            ]
          },
          "metadata": {},
          "execution_count": 39
        }
      ]
    },
    {
      "cell_type": "markdown",
      "source": [
        "# Train the model"
      ],
      "metadata": {
        "id": "uyvM2zknN0hI"
      }
    },
    {
      "cell_type": "code",
      "source": [
        "loss_fn = nn.BCELoss()\n",
        "optimizer = optim.Adam(model.parameters(), lr=0.001)"
      ],
      "metadata": {
        "id": "YdofGCTwN1m1"
      },
      "execution_count": 40,
      "outputs": []
    },
    {
      "cell_type": "code",
      "source": [
        "len(train_loader)"
      ],
      "metadata": {
        "colab": {
          "base_uri": "https://localhost:8080/"
        },
        "id": "MRRMq4E-e1ur",
        "outputId": "ed3e5983-5b08-43f4-f663-6a640fafcb34"
      },
      "execution_count": 41,
      "outputs": [
        {
          "output_type": "execute_result",
          "data": {
            "text/plain": [
              "782"
            ]
          },
          "metadata": {},
          "execution_count": 41
        }
      ]
    },
    {
      "cell_type": "code",
      "source": [
        "def calculate_accuracy(preds, labels):\n",
        "  preds = (preds > 0.5).float()\n",
        "\n",
        "  correct = (preds == labels).float()\n",
        "  accuracy = correct.sum() / len(correct)\n",
        "  return accuracy"
      ],
      "metadata": {
        "id": "lS8_9sn-XRcg"
      },
      "execution_count": 42,
      "outputs": []
    },
    {
      "cell_type": "code",
      "source": [
        "def evaluate(model):\n",
        "  model.eval()\n",
        "  total_loss = 0\n",
        "  total_accuracy = 0\n",
        "  total_samples = 0\n",
        "\n",
        "  with torch.no_grad():\n",
        "    for inputs, labels in test_loader:\n",
        "      inputs, labels = inputs.to(device), labels.to(device)\n",
        "      predictions = model(inputs)\n",
        "      labels = labels.unsqueeze(1).float()\n",
        "\n",
        "      loss = loss_fn(predictions, labels)\n",
        "\n",
        "      total_loss += loss.item() * inputs.size(0)\n",
        "      total_accuracy += calculate_accuracy(predictions, labels) * inputs.size(0)\n",
        "      total_samples += inputs.size(0)\n",
        "\n",
        "    total_accuracy = float(total_accuracy) / total_samples\n",
        "    total_loss = float(total_loss) / total_samples\n",
        "\n",
        "  return total_loss, total_accuracy"
      ],
      "metadata": {
        "id": "GEhF3iGtZD5e"
      },
      "execution_count": 43,
      "outputs": []
    },
    {
      "cell_type": "code",
      "source": [
        "evaluate(model)"
      ],
      "metadata": {
        "colab": {
          "base_uri": "https://localhost:8080/"
        },
        "id": "P3PZbcLr2p6v",
        "outputId": "b10efdcd-13b9-4251-acd3-28218a364347"
      },
      "execution_count": 44,
      "outputs": [
        {
          "output_type": "execute_result",
          "data": {
            "text/plain": [
              "(0.6934077616310119, 0.48968)"
            ]
          },
          "metadata": {},
          "execution_count": 44
        }
      ]
    },
    {
      "cell_type": "code",
      "source": [
        "def train_one_epoch():\n",
        "  model.train()\n",
        "\n",
        "  for batch_idx, (input, label) in enumerate(train_loader):\n",
        "    model.train()\n",
        "    input, label = input.to(device), label.to(device)\n",
        "\n",
        "    # forward propagation\n",
        "    pred = model(input)\n",
        "    # compute loss\n",
        "    loss = loss_fn(pred, label.unsqueeze(1).float())\n",
        "    # do backward propagation\n",
        "    optimizer.zero_grad()\n",
        "    loss.backward()\n",
        "    # update weights\n",
        "    optimizer.step()\n",
        "\n",
        "    if batch_idx % 100 == 0 or batch_idx == len(train_loader)-1:\n",
        "      accuracy = calculate_accuracy(pred, label.unsqueeze(1).float())\n",
        "      print(f\"{batch_idx} batch - loss: {loss}, accuracy: {accuracy}\")\n",
        "\n",
        "\n",
        "epochs = 1\n",
        "for epoch in range(epochs):\n",
        "  print(f\"Epoch {epoch+1}\")\n",
        "  train_one_epoch()\n",
        "  val_loss, val_accuracy = evaluate(model)\n",
        "  print(f\"Validation - Loss: {val_loss}, Accuracy: {val_accuracy}\")\n",
        "  print(\"=================\\n\")"
      ],
      "metadata": {
        "colab": {
          "base_uri": "https://localhost:8080/"
        },
        "id": "trfbPinrOCQK",
        "outputId": "5db8894a-9f97-4c4f-f406-a23cfdb2052f"
      },
      "execution_count": 46,
      "outputs": [
        {
          "output_type": "stream",
          "name": "stdout",
          "text": [
            "Epoch 1\n",
            "0 batch - loss: 0.5814475417137146, accuracy: 0.6875\n",
            "100 batch - loss: 0.4441051483154297, accuracy: 0.8125\n",
            "200 batch - loss: 0.463911771774292, accuracy: 0.75\n",
            "300 batch - loss: 0.36113518476486206, accuracy: 0.78125\n",
            "400 batch - loss: 0.2866861820220947, accuracy: 0.875\n",
            "500 batch - loss: 0.21282553672790527, accuracy: 0.9375\n",
            "600 batch - loss: 0.20680581033229828, accuracy: 0.9375\n",
            "700 batch - loss: 0.32904282212257385, accuracy: 0.875\n",
            "781 batch - loss: 0.2657952308654785, accuracy: 0.875\n",
            "Validation - Loss: 0.29989119903564454, Accuracy: 0.87024\n",
            "=================\n",
            "\n"
          ]
        }
      ]
    },
    {
      "cell_type": "markdown",
      "source": [
        "## Inferencing"
      ],
      "metadata": {
        "id": "rtKgr49rIm6b"
      }
    },
    {
      "cell_type": "code",
      "source": [
        "def inference(review, label):\n",
        "\n",
        "  tokenized = tokenize_data([review])\n",
        "  sequence = numericalize_tokens(tokenized)\n",
        "  padded = pad_sequences(sequence, 256)\n",
        "\n",
        "  logit = model(padded.to(device))\n",
        "  pred = 0\n",
        "  if pred >= 0.5:\n",
        "    pred = 1\n",
        "  else:\n",
        "    pred = 0\n",
        "\n",
        "  print(f\"Review Sentence: {review}\")\n",
        "  print(f\"Prediction: {pred}\")\n",
        "  print(f\"True Label: {label}\")"
      ],
      "metadata": {
        "id": "GKM33ObWMnjd"
      },
      "execution_count": 95,
      "outputs": []
    },
    {
      "cell_type": "code",
      "source": [
        "idx = 45\n",
        "inference(test_corpus[idx], test_labels[idx])"
      ],
      "metadata": {
        "colab": {
          "base_uri": "https://localhost:8080/"
        },
        "id": "Ib1Ih76MNQQO",
        "outputId": "a231c379-9949-408e-a93d-49414e1c1ee0"
      },
      "execution_count": 98,
      "outputs": [
        {
          "output_type": "stream",
          "name": "stdout",
          "text": [
            "Review Sentence: STMD! is not a terrible movie, but it IS quite forgettable. The lighting is intentionally poor in many scenes and unintentionally poor in all the rest, so you are likely to come out of a viewing with a headache or eye-strain. Special effects are imaginative, but obvious. The gratuitous nudity essential for teen slasher flicks is there, of course, along with the archetypical teenagers, but the whole movie just doesn't gel. What was needed was some snappier dialogue and more tongue-in-cheek humor.<br /><br />I can't really recommend that you use your time watching this movie. I often give a nod to a movie based on just a scene or two that demonstrates imagination or humor, but these are sadly lacking in this film.\n",
            "Prediction: 0\n",
            "True Label: 0\n"
          ]
        }
      ]
    },
    {
      "cell_type": "code",
      "source": [
        "idx = 431\n",
        "inference(test_corpus[idx], test_labels[idx])"
      ],
      "metadata": {
        "colab": {
          "base_uri": "https://localhost:8080/"
        },
        "id": "zC8iXX11NhRw",
        "outputId": "4208c495-6668-4a6b-f5b5-46ec0b8f560b"
      },
      "execution_count": 99,
      "outputs": [
        {
          "output_type": "stream",
          "name": "stdout",
          "text": [
            "Review Sentence: the movie is precious, and cage is a babe. <br /><br />but will anyone agree with me in saying that the punk representation in this movie is ATROCIOUS?!?! <br /><br />where's the clash? the ramones?? misfits? social distortion? the cramps?? sex pistols?! ANYONE?!?!?!?! the music is this movie is incredibly disappointing! at LEAST they play the cure.<br /><br />plus, randy's feathered hair and pleated khakis...<br /><br />this definitely looks like a movie about \"punks\" the way that a bunch of movie industry squares see punks.<br /><br />although it's a 90's movie, SLC punk paints a much more accurate picture of the punk rock scene in the early 1980's. just sayin'.\n",
            "Prediction: 0\n",
            "True Label: 0\n"
          ]
        }
      ]
    }
  ]
}